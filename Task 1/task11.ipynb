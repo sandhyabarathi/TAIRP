{
 "cells": [
  {
   "cell_type": "code",
   "execution_count": 13,
   "metadata": {},
   "outputs": [],
   "source": [
    "import pandas as pd\n",
    "import numpy as np\n",
    "import seaborn as sns\n",
    "import matplotlib.pyplot as plt\n"
   ]
  },
  {
   "cell_type": "code",
   "execution_count": 2,
   "metadata": {},
   "outputs": [],
   "source": [
    "df = pd.read_csv('./dataset2/Salary_Data_Based_country_and_race.csv')"
   ]
  },
  {
   "cell_type": "code",
   "execution_count": 4,
   "metadata": {},
   "outputs": [
    {
     "data": {
      "text/html": [
       "<div>\n",
       "<style scoped>\n",
       "    .dataframe tbody tr th:only-of-type {\n",
       "        vertical-align: middle;\n",
       "    }\n",
       "\n",
       "    .dataframe tbody tr th {\n",
       "        vertical-align: top;\n",
       "    }\n",
       "\n",
       "    .dataframe thead th {\n",
       "        text-align: right;\n",
       "    }\n",
       "</style>\n",
       "<table border=\"1\" class=\"dataframe\">\n",
       "  <thead>\n",
       "    <tr style=\"text-align: right;\">\n",
       "      <th></th>\n",
       "      <th>Unnamed: 0</th>\n",
       "      <th>Age</th>\n",
       "      <th>Gender</th>\n",
       "      <th>Education Level</th>\n",
       "      <th>Job Title</th>\n",
       "      <th>Years of Experience</th>\n",
       "      <th>Salary</th>\n",
       "      <th>Country</th>\n",
       "      <th>Race</th>\n",
       "    </tr>\n",
       "  </thead>\n",
       "  <tbody>\n",
       "    <tr>\n",
       "      <th>0</th>\n",
       "      <td>0</td>\n",
       "      <td>32.0</td>\n",
       "      <td>Male</td>\n",
       "      <td>Bachelor's</td>\n",
       "      <td>Software Engineer</td>\n",
       "      <td>5.0</td>\n",
       "      <td>90000.0</td>\n",
       "      <td>UK</td>\n",
       "      <td>White</td>\n",
       "    </tr>\n",
       "    <tr>\n",
       "      <th>1</th>\n",
       "      <td>1</td>\n",
       "      <td>28.0</td>\n",
       "      <td>Female</td>\n",
       "      <td>Master's</td>\n",
       "      <td>Data Analyst</td>\n",
       "      <td>3.0</td>\n",
       "      <td>65000.0</td>\n",
       "      <td>USA</td>\n",
       "      <td>Hispanic</td>\n",
       "    </tr>\n",
       "    <tr>\n",
       "      <th>2</th>\n",
       "      <td>2</td>\n",
       "      <td>45.0</td>\n",
       "      <td>Male</td>\n",
       "      <td>PhD</td>\n",
       "      <td>Senior Manager</td>\n",
       "      <td>15.0</td>\n",
       "      <td>150000.0</td>\n",
       "      <td>Canada</td>\n",
       "      <td>White</td>\n",
       "    </tr>\n",
       "    <tr>\n",
       "      <th>3</th>\n",
       "      <td>3</td>\n",
       "      <td>36.0</td>\n",
       "      <td>Female</td>\n",
       "      <td>Bachelor's</td>\n",
       "      <td>Sales Associate</td>\n",
       "      <td>7.0</td>\n",
       "      <td>60000.0</td>\n",
       "      <td>USA</td>\n",
       "      <td>Hispanic</td>\n",
       "    </tr>\n",
       "    <tr>\n",
       "      <th>4</th>\n",
       "      <td>4</td>\n",
       "      <td>52.0</td>\n",
       "      <td>Male</td>\n",
       "      <td>Master's</td>\n",
       "      <td>Director</td>\n",
       "      <td>20.0</td>\n",
       "      <td>200000.0</td>\n",
       "      <td>USA</td>\n",
       "      <td>Asian</td>\n",
       "    </tr>\n",
       "  </tbody>\n",
       "</table>\n",
       "</div>"
      ],
      "text/plain": [
       "   Unnamed: 0   Age  Gender Education Level          Job Title  \\\n",
       "0           0  32.0    Male      Bachelor's  Software Engineer   \n",
       "1           1  28.0  Female        Master's       Data Analyst   \n",
       "2           2  45.0    Male             PhD     Senior Manager   \n",
       "3           3  36.0  Female      Bachelor's    Sales Associate   \n",
       "4           4  52.0    Male        Master's           Director   \n",
       "\n",
       "   Years of Experience    Salary Country      Race  \n",
       "0                  5.0   90000.0      UK     White  \n",
       "1                  3.0   65000.0     USA  Hispanic  \n",
       "2                 15.0  150000.0  Canada     White  \n",
       "3                  7.0   60000.0     USA  Hispanic  \n",
       "4                 20.0  200000.0     USA     Asian  "
      ]
     },
     "execution_count": 4,
     "metadata": {},
     "output_type": "execute_result"
    }
   ],
   "source": [
    "#Load the data\n",
    "df.head()\n"
   ]
  },
  {
   "cell_type": "code",
   "execution_count": 5,
   "metadata": {},
   "outputs": [
    {
     "name": "stdout",
     "output_type": "stream",
     "text": [
      "<class 'pandas.core.frame.DataFrame'>\n",
      "RangeIndex: 6704 entries, 0 to 6703\n",
      "Data columns (total 9 columns):\n",
      " #   Column               Non-Null Count  Dtype  \n",
      "---  ------               --------------  -----  \n",
      " 0   Unnamed: 0           6704 non-null   int64  \n",
      " 1   Age                  6702 non-null   float64\n",
      " 2   Gender               6702 non-null   object \n",
      " 3   Education Level      6701 non-null   object \n",
      " 4   Job Title            6702 non-null   object \n",
      " 5   Years of Experience  6701 non-null   float64\n",
      " 6   Salary               6699 non-null   float64\n",
      " 7   Country              6704 non-null   object \n",
      " 8   Race                 6704 non-null   object \n",
      "dtypes: float64(3), int64(1), object(5)\n",
      "memory usage: 471.5+ KB\n"
     ]
    },
    {
     "data": {
      "text/html": [
       "<div>\n",
       "<style scoped>\n",
       "    .dataframe tbody tr th:only-of-type {\n",
       "        vertical-align: middle;\n",
       "    }\n",
       "\n",
       "    .dataframe tbody tr th {\n",
       "        vertical-align: top;\n",
       "    }\n",
       "\n",
       "    .dataframe thead th {\n",
       "        text-align: right;\n",
       "    }\n",
       "</style>\n",
       "<table border=\"1\" class=\"dataframe\">\n",
       "  <thead>\n",
       "    <tr style=\"text-align: right;\">\n",
       "      <th></th>\n",
       "      <th>Unnamed: 0</th>\n",
       "      <th>Age</th>\n",
       "      <th>Years of Experience</th>\n",
       "      <th>Salary</th>\n",
       "    </tr>\n",
       "  </thead>\n",
       "  <tbody>\n",
       "    <tr>\n",
       "      <th>count</th>\n",
       "      <td>6704.000000</td>\n",
       "      <td>6702.000000</td>\n",
       "      <td>6701.000000</td>\n",
       "      <td>6699.000000</td>\n",
       "    </tr>\n",
       "    <tr>\n",
       "      <th>mean</th>\n",
       "      <td>3351.500000</td>\n",
       "      <td>33.620859</td>\n",
       "      <td>8.094687</td>\n",
       "      <td>115326.964771</td>\n",
       "    </tr>\n",
       "    <tr>\n",
       "      <th>std</th>\n",
       "      <td>1935.422435</td>\n",
       "      <td>7.614633</td>\n",
       "      <td>6.059003</td>\n",
       "      <td>52786.183911</td>\n",
       "    </tr>\n",
       "    <tr>\n",
       "      <th>min</th>\n",
       "      <td>0.000000</td>\n",
       "      <td>21.000000</td>\n",
       "      <td>0.000000</td>\n",
       "      <td>350.000000</td>\n",
       "    </tr>\n",
       "    <tr>\n",
       "      <th>25%</th>\n",
       "      <td>1675.750000</td>\n",
       "      <td>28.000000</td>\n",
       "      <td>3.000000</td>\n",
       "      <td>70000.000000</td>\n",
       "    </tr>\n",
       "    <tr>\n",
       "      <th>50%</th>\n",
       "      <td>3351.500000</td>\n",
       "      <td>32.000000</td>\n",
       "      <td>7.000000</td>\n",
       "      <td>115000.000000</td>\n",
       "    </tr>\n",
       "    <tr>\n",
       "      <th>75%</th>\n",
       "      <td>5027.250000</td>\n",
       "      <td>38.000000</td>\n",
       "      <td>12.000000</td>\n",
       "      <td>160000.000000</td>\n",
       "    </tr>\n",
       "    <tr>\n",
       "      <th>max</th>\n",
       "      <td>6703.000000</td>\n",
       "      <td>62.000000</td>\n",
       "      <td>34.000000</td>\n",
       "      <td>250000.000000</td>\n",
       "    </tr>\n",
       "  </tbody>\n",
       "</table>\n",
       "</div>"
      ],
      "text/plain": [
       "        Unnamed: 0          Age  Years of Experience         Salary\n",
       "count  6704.000000  6702.000000          6701.000000    6699.000000\n",
       "mean   3351.500000    33.620859             8.094687  115326.964771\n",
       "std    1935.422435     7.614633             6.059003   52786.183911\n",
       "min       0.000000    21.000000             0.000000     350.000000\n",
       "25%    1675.750000    28.000000             3.000000   70000.000000\n",
       "50%    3351.500000    32.000000             7.000000  115000.000000\n",
       "75%    5027.250000    38.000000            12.000000  160000.000000\n",
       "max    6703.000000    62.000000            34.000000  250000.000000"
      ]
     },
     "execution_count": 5,
     "metadata": {},
     "output_type": "execute_result"
    }
   ],
   "source": [
    "#Basic information about the Salary\n",
    "df.info()\n",
    "#Describe the data\n",
    "df.describe()"
   ]
  },
  {
   "cell_type": "code",
   "execution_count": 6,
   "metadata": {},
   "outputs": [
    {
     "data": {
      "text/plain": [
       "0"
      ]
     },
     "execution_count": 6,
     "metadata": {},
     "output_type": "execute_result"
    }
   ],
   "source": [
    "#Listing out the duplicate values\n",
    "df.duplicated().sum()"
   ]
  },
  {
   "cell_type": "code",
   "execution_count": 8,
   "metadata": {},
   "outputs": [
    {
     "data": {
      "text/plain": [
       "array([32., 28., 45., 36., 52., 29., 42., 31., 26., 38., 48., 35., 40.,\n",
       "       27., 44., 33., 39., 25., 51., 34., 47., 30., 41., 37., 24., 43.,\n",
       "       50., 46., 49., 23., 53., nan, 61., 57., 62., 55., 56., 54., 60.,\n",
       "       58., 22., 21.])"
      ]
     },
     "execution_count": 8,
     "metadata": {},
     "output_type": "execute_result"
    }
   ],
   "source": [
    "#Unique values in the data\n",
    "df['Age'].unique()\n"
   ]
  },
  {
   "cell_type": "code",
   "execution_count": 9,
   "metadata": {},
   "outputs": [
    {
     "data": {
      "text/plain": [
       "array(['Male', 'Female', nan, 'Other'], dtype=object)"
      ]
     },
     "execution_count": 9,
     "metadata": {},
     "output_type": "execute_result"
    }
   ],
   "source": [
    "df['Gender'].unique()\n"
   ]
  },
  {
   "cell_type": "code",
   "execution_count": 10,
   "metadata": {},
   "outputs": [
    {
     "data": {
      "text/plain": [
       "array(['UK', 'USA', 'Canada', 'China', 'Australia'], dtype=object)"
      ]
     },
     "execution_count": 10,
     "metadata": {},
     "output_type": "execute_result"
    }
   ],
   "source": [
    "df['Country'].unique()"
   ]
  },
  {
   "cell_type": "code",
   "execution_count": 11,
   "metadata": {},
   "outputs": [
    {
     "data": {
      "text/plain": [
       "array([ 90000.,  65000., 150000.,  60000., 200000.,  55000., 120000.,\n",
       "        80000.,  45000., 110000.,  75000., 140000., 130000.,  40000.,\n",
       "       125000., 115000.,  35000., 180000., 190000.,  50000., 250000.,\n",
       "       170000., 160000.,  85000.,  95000., 105000.,  70000., 100000.,\n",
       "        30000., 135000., 220000., 175000., 185000.,     nan, 145000.,\n",
       "       155000.,    350., 195000., 198000., 196000., 193000.,  92000.,\n",
       "       165000., 162000., 197000., 142000., 182000., 210000.,    550.,\n",
       "       122485., 169159., 187081., 166109.,  78354.,  90249., 132720.,\n",
       "       161568., 127346., 120177.,  69032., 101332., 121450., 166375.,\n",
       "       185119., 149217., 166512., 186963.,  75072., 163398., 103947.,\n",
       "       179180., 175966., 190004., 152039.,  76742., 191790., 139398.,\n",
       "        95845., 160976., 126753., 161393., 139817., 181714., 114776.,\n",
       "       105725.,  52731., 106492.,  73895., 119836.,  99747., 168287.,\n",
       "       115920., 128078.,  51265., 165919., 188651.,  55538., 193964.,\n",
       "       104702., 172955., 138032.,  82683., 155414., 154207., 107895.,\n",
       "       148446., 102859., 138662., 181699., 188232.,  51832., 188484.,\n",
       "       138286., 181132.,  73938., 119224., 101186., 142360., 151315.,\n",
       "       181021., 134641., 173851., 104127., 178859.,  98568., 104661.,\n",
       "       134858.,  94502.,  62852., 139095., 106278.,  90452., 168304.,\n",
       "       126593., 152203., 183138., 130275., 191915.,  62807., 174305.,\n",
       "       133326.,  75656., 155944., 137775.,  51831., 182237., 151901.,\n",
       "       100052., 158254., 167207., 112439., 194214.,  84407., 139413.,\n",
       "       143084., 192344., 106132., 184816., 150248., 170995.,  88035.,\n",
       "       119419., 173582., 174436.,  71699., 163558., 166828., 144496.,\n",
       "       193746., 122581.,  79767., 177177.,  89843., 113563., 128712.,\n",
       "       161621., 121454., 179987.,  72649.,  52612., 184006., 131960.,\n",
       "       102465., 149748., 171036., 146351., 185462., 107718.,  90944.,\n",
       "       100425.,  63901., 181902., 136533., 136285., 191818., 176643.,\n",
       "        70022.,  99363., 152944., 123386., 168906., 183020.,  47898.,\n",
       "       135853., 149198., 106662., 186610.,  89995.,  85825., 143814.,\n",
       "       174726., 150534.,  68732., 187951., 137336., 191159., 102868.,\n",
       "       154281., 111535., 107906., 143885., 180958., 108607., 178284.,\n",
       "        75969., 143705., 197354., 174324., 123781., 141735., 187120.,\n",
       "        61095., 179045., 130355., 103282., 157872., 117314., 186321.,\n",
       "       129686.,  68611., 177913.,  68472., 113065., 125091., 172925.,\n",
       "       126916., 183417.,  76898.,    579., 103579., 163780., 137878.,\n",
       "        92438.,  84181., 174821., 126520., 152168., 190543., 131547.,\n",
       "       192292.,  52807., 174938., 124071.,  73640., 156486., 138859.,\n",
       "        52831., 182392., 151078., 100679., 158966., 167924., 113334.,\n",
       "       194778.,  77606., 140010., 142421., 192756., 106686., 186794.,\n",
       "       150729., 171652.,  88552., 119918., 174985., 174336.,  72389.,\n",
       "       163978., 166958., 145052., 195270., 122970.,  80247., 177862.,\n",
       "        91062., 114290., 128999., 162454., 122354., 179756.,  73218.,\n",
       "       184480., 132442., 102828., 150301., 171468., 147326., 185982.,\n",
       "       108267.,  91397., 100867.,  64182., 182506., 136986., 136662.,\n",
       "       191510., 177347.,  70397., 146075., 155795., 132638., 178684.,\n",
       "       106218., 191239.,  65840.,  52779., 185038., 136449., 110707.,\n",
       "       151670., 167015., 146508., 190596., 104378.,  70216., 101733.,\n",
       "        55935., 180367., 135596., 136062., 191267.,  82944., 188288.,\n",
       "       141090., 152726., 124141.,  67556., 182768., 148727.,  91903.,\n",
       "       147708., 163209., 120288., 170226., 134979., 137489.,  83577.,\n",
       "       117904., 134482., 184660., 100151.,  88678., 181285., 154990.,\n",
       "       108204., 175684.,  77766., 192211., 144647., 162231., 121120.,\n",
       "        79652., 177002.,  87584., 131860., 182013., 108799., 135378.,\n",
       "       183530., 150901.,  82697., 194638., 130356., 152560., 121432.,\n",
       "        63789., 183690., 151310., 100358., 148437., 168691.,  32000.,\n",
       "        38000.,  89000.,  33000.,  25000.,  62000., 138000.,  47000.,\n",
       "        26000., 174000.,  41000.,  99000., 117000., 225000.,  36000.,\n",
       "       146000., 113000., 168000., 122000.,  96000.,  49000.,  68000.,\n",
       "       127000.,  71000., 240000., 152000., 119000., 131000., 101000.,\n",
       "       137000., 112000.,  91000., 179000.,  74000., 228000.,  37000.,\n",
       "       204000.,  61000., 157000.,  52000.,  58000., 219000.,  77000.,\n",
       "       104000., 183000.,  43000.,  48000.,  42000.,    500.,  57000.,\n",
       "        72000.,  31000.,  28000., 215000.])"
      ]
     },
     "execution_count": 11,
     "metadata": {},
     "output_type": "execute_result"
    }
   ],
   "source": [
    "df['Salary'].unique()\n"
   ]
  },
  {
   "cell_type": "code",
   "execution_count": 12,
   "metadata": {},
   "outputs": [
    {
     "data": {
      "text/plain": [
       "array(['Software Engineer', 'Data Analyst', 'Senior Manager',\n",
       "       'Sales Associate', 'Director', 'Marketing Analyst',\n",
       "       'Product Manager', 'Sales Manager', 'Marketing Coordinator',\n",
       "       'Senior Scientist', 'Software Developer', 'HR Manager',\n",
       "       'Financial Analyst', 'Project Manager', 'Customer Service Rep',\n",
       "       'Operations Manager', 'Marketing Manager', 'Senior Engineer',\n",
       "       'Data Entry Clerk', 'Sales Director', 'Business Analyst',\n",
       "       'VP of Operations', 'IT Support', 'Recruiter', 'Financial Manager',\n",
       "       'Social Media Specialist', 'Software Manager', 'Junior Developer',\n",
       "       'Senior Consultant', 'Product Designer', 'CEO', 'Accountant',\n",
       "       'Data Scientist', 'Marketing Specialist', 'Technical Writer',\n",
       "       'HR Generalist', 'Project Engineer', 'Customer Success Rep',\n",
       "       'Sales Executive', 'UX Designer', 'Operations Director',\n",
       "       'Network Engineer', 'Administrative Assistant',\n",
       "       'Strategy Consultant', 'Copywriter', 'Account Manager',\n",
       "       'Director of Marketing', 'Help Desk Analyst',\n",
       "       'Customer Service Manager', 'Business Intelligence Analyst',\n",
       "       'Event Coordinator', 'VP of Finance', 'Graphic Designer',\n",
       "       'UX Researcher', 'Social Media Manager', 'Director of Operations',\n",
       "       'Senior Data Scientist', 'Junior Accountant',\n",
       "       'Digital Marketing Manager', 'IT Manager',\n",
       "       'Customer Service Representative', 'Business Development Manager',\n",
       "       'Senior Financial Analyst', 'Web Developer', 'Research Director',\n",
       "       'Technical Support Specialist', 'Creative Director',\n",
       "       'Senior Software Engineer', 'Human Resources Director',\n",
       "       'Content Marketing Manager', 'Technical Recruiter',\n",
       "       'Sales Representative', 'Chief Technology Officer',\n",
       "       'Junior Designer', 'Financial Advisor', 'Junior Account Manager',\n",
       "       'Senior Project Manager', 'Principal Scientist',\n",
       "       'Supply Chain Manager', 'Senior Marketing Manager',\n",
       "       'Training Specialist', 'Research Scientist',\n",
       "       'Junior Software Developer', 'Public Relations Manager',\n",
       "       'Operations Analyst', 'Product Marketing Manager',\n",
       "       'Senior HR Manager', 'Junior Web Developer',\n",
       "       'Senior Project Coordinator', 'Chief Data Officer',\n",
       "       'Digital Content Producer', 'IT Support Specialist',\n",
       "       'Senior Marketing Analyst', 'Customer Success Manager',\n",
       "       'Senior Graphic Designer', 'Software Project Manager',\n",
       "       'Supply Chain Analyst', 'Senior Business Analyst',\n",
       "       'Junior Marketing Analyst', 'Office Manager', 'Principal Engineer',\n",
       "       'Junior HR Generalist', 'Senior Product Manager',\n",
       "       'Junior Operations Analyst', 'Senior HR Generalist',\n",
       "       'Sales Operations Manager', 'Senior Software Developer',\n",
       "       'Junior Web Designer', 'Senior Training Specialist',\n",
       "       'Senior Research Scientist', 'Junior Sales Representative',\n",
       "       'Junior Marketing Manager', 'Junior Data Analyst',\n",
       "       'Senior Product Marketing Manager', 'Junior Business Analyst',\n",
       "       'Senior Sales Manager', 'Junior Marketing Specialist',\n",
       "       'Junior Project Manager', 'Senior Accountant', 'Director of Sales',\n",
       "       'Junior Recruiter', 'Senior Business Development Manager',\n",
       "       'Senior Product Designer', 'Junior Customer Support Specialist',\n",
       "       'Senior IT Support Specialist', 'Junior Financial Analyst',\n",
       "       'Senior Operations Manager', 'Director of Human Resources',\n",
       "       'Junior Software Engineer', 'Senior Sales Representative',\n",
       "       'Director of Product Management', 'Junior Copywriter',\n",
       "       'Senior Marketing Coordinator', 'Senior Human Resources Manager',\n",
       "       'Junior Business Development Associate', 'Senior Account Manager',\n",
       "       'Senior Researcher', 'Junior HR Coordinator',\n",
       "       'Director of Finance', 'Junior Marketing Coordinator', nan,\n",
       "       'Junior Data Scientist', 'Senior Operations Analyst',\n",
       "       'Senior Human Resources Coordinator', 'Senior UX Designer',\n",
       "       'Junior Product Manager', 'Senior Marketing Specialist',\n",
       "       'Senior IT Project Manager', 'Senior Quality Assurance Analyst',\n",
       "       'Director of Sales and Marketing', 'Senior Account Executive',\n",
       "       'Director of Business Development', 'Junior Social Media Manager',\n",
       "       'Senior Human Resources Specialist', 'Senior Data Analyst',\n",
       "       'Director of Human Capital', 'Junior Advertising Coordinator',\n",
       "       'Junior UX Designer', 'Senior Marketing Director',\n",
       "       'Senior IT Consultant', 'Senior Financial Advisor',\n",
       "       'Junior Business Operations Analyst',\n",
       "       'Junior Social Media Specialist',\n",
       "       'Senior Product Development Manager', 'Junior Operations Manager',\n",
       "       'Senior Software Architect', 'Junior Research Scientist',\n",
       "       'Senior Financial Manager', 'Senior HR Specialist',\n",
       "       'Senior Data Engineer', 'Junior Operations Coordinator',\n",
       "       'Director of HR', 'Senior Operations Coordinator',\n",
       "       'Junior Financial Advisor', 'Director of Engineering',\n",
       "       'Software Engineer Manager', 'Back end Developer',\n",
       "       'Senior Project Engineer', 'Full Stack Engineer',\n",
       "       'Front end Developer', 'Developer', 'Front End Developer',\n",
       "       'Director of Data Science', 'Human Resources Coordinator',\n",
       "       'Junior Sales Associate', 'Human Resources Manager',\n",
       "       'Juniour HR Generalist', 'Juniour HR Coordinator',\n",
       "       'Digital Marketing Specialist', 'Receptionist',\n",
       "       'Marketing Director', 'Social M', 'Social Media Man',\n",
       "       'Delivery Driver'], dtype=object)"
      ]
     },
     "execution_count": 12,
     "metadata": {},
     "output_type": "execute_result"
    }
   ],
   "source": [
    "df['Job Title'].unique()"
   ]
  },
  {
   "cell_type": "code",
   "execution_count": null,
   "metadata": {},
   "outputs": [],
   "source": [
    "#Plot the unique values\n"
   ]
  }
 ],
 "metadata": {
  "kernelspec": {
   "display_name": "Python 3",
   "language": "python",
   "name": "python3"
  },
  "language_info": {
   "codemirror_mode": {
    "name": "ipython",
    "version": 3
   },
   "file_extension": ".py",
   "mimetype": "text/x-python",
   "name": "python",
   "nbconvert_exporter": "python",
   "pygments_lexer": "ipython3",
   "version": "3.10.11"
  },
  "orig_nbformat": 4
 },
 "nbformat": 4,
 "nbformat_minor": 2
}
